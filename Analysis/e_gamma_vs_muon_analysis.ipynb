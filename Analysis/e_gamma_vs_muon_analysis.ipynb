{
 "cells": [
  {
   "cell_type": "code",
   "execution_count": 1,
   "id": "rolled-gospel",
   "metadata": {},
   "outputs": [],
   "source": [
    "%load_ext autoreload\n",
    "%matplotlib inline\n",
    "%autoreload 2"
   ]
  },
  {
   "cell_type": "code",
   "execution_count": 2,
   "id": "turkish-obligation",
   "metadata": {},
   "outputs": [],
   "source": [
    "import uproot\n",
    "import numpy as np\n",
    "import matplotlib.pyplot as plt\n",
    "import os\n",
    "import sys\n",
    "import pickle\n",
    "import h5py"
   ]
  },
  {
   "cell_type": "code",
   "execution_count": 39,
   "id": "cultural-seminar",
   "metadata": {},
   "outputs": [],
   "source": [
    "sys.path.append(\"../../WatChMaL_analysis_copy\")\n",
    "\n",
    "from WatChMaL.analysis.multi_plot_utils import multi_disp_learn_hist, multi_compute_roc, multi_plot_roc, compute_roc, plot_roc\n",
    "from WatChMaL.analysis.comparison_utils import multi_get_masked_data, multi_collapse_test_output, collapse_test_output\n",
    "from WatChMaL.analysis.fitqun_comparison_utils import load_mu_fq_output, load_pion_fq_output, load_gamma_fq_output\n",
    "from WatChMaL.analysis.performance_analysis_utils import remove_indices\n",
    "from WatChMaL.analysis.performance_analysis_plot_utils import plot_fitqun_binned_performance, plot_momentum_binned_performance\n",
    "from WatChMaL.analysis.performance_analysis_plot_utils import plot_true_momentum_binned_performance, plot_to_wall_binned_performance, plot_energy_binned_performance, plot_zenith_binned_performance, plot_azimuth_binned_performance\n",
    "from WatChMaL.analysis.performance_analysis_plot_utils import plot_to_wall_binned_in_energy, plot_zenith_binned_in_azimuth, plot_azimuth_binned_in_zenith"
   ]
  },
  {
   "cell_type": "code",
   "execution_count": 4,
   "id": "located-bandwidth",
   "metadata": {},
   "outputs": [],
   "source": [
    "############# define plotting params #############\n",
    "c = plt.rcParams['axes.prop_cycle'].by_key()['color']\n",
    "label_dict = {\"$\\gamma$\":0, \"$e$\":1, \"$\\mu$\":2, \"$\\pi 0$\":3}\n",
    "inverse_label_dict = {0:\"$\\gamma$\", 1:\"$e$\", 2:\"$\\mu$\", 3:\"$\\pi 0$\"}\n",
    "muon_softmax_index_dict = {\"e/gamma\":0, \"mu\":1}"
   ]
  },
  {
   "cell_type": "markdown",
   "id": "postal-patent",
   "metadata": {},
   "source": [
    "<h1>Load fiTQun Results</h1>"
   ]
  },
  {
   "cell_type": "code",
   "execution_count": 7,
   "id": "ranging-innocent",
   "metadata": {},
   "outputs": [],
   "source": [
    "# Retrieve flags\n",
    "gamma_file_path = '/fast_scratch/WatChMaL/data/IWCD_mPMT_Short_gamma_E0to1000MeV_unif-pos-R400-y300cm_4pi-dir.fiTQun.root'\n",
    "e_file_path     = '/fast_scratch/WatChMaL/data/IWCD_mPMT_Short_e-_E0to1000MeV_unif-pos-R400-y300cm_4pi-dir.fiTQun.root'\n",
    "mu_file_path    = '/fast_scratch/WatChMaL/data/IWCD_mPMT_Short_mu-_E0to1000MeV_unif-pos-R400-y300cm_4pi-dir.fiTQun.root'\n",
    "pion_file_path  = '/fast_scratch/WatChMaL/data/IWCD_mPMT_Short_pi0_E0to1000MeV_unif-pos-R400-y300cm_4pi-dir.fiTQun.root'\n",
    "\n",
    "fq_mapping_path = '/home/zpatel/WatChMaL_analysis_copy/fitqun_comparison/fitqun_comparison_prep/prep_data/4_class_3M_fitqun_mapping.pickle'\n",
    "\n",
    "with open('/home/zpatel/WatChMaL_analysis_copy/fitqun_comparison/fitqun_comparison_prep/prep_data/4_class_3M_fitqun_cuts.pickle', 'rb') as handle:\n",
    "    cuts = pickle.load(handle)"
   ]
  },
  {
   "cell_type": "markdown",
   "id": "drawn-research",
   "metadata": {},
   "source": [
    "<h1>Load ResNet Results</h1>"
   ]
  },
  {
   "cell_type": "code",
   "execution_count": 15,
   "id": "unexpected-belief",
   "metadata": {},
   "outputs": [],
   "source": [
    "############# define run locations #############\n",
    "short_locs = [#'/home/jtindall/WatChMaL/outputs/2021-04-06/13-38-38/outputs'\n",
    "#               '/home/zpatel/WatChMaL/outputs/2021-05-31/09-44-17/outputs' # 4 class\n",
    "#               '/home/zpatel/WatChMaL/outputs/2021-04-19/09-44-40/outputs'   # 2 class\n",
    "                '/home/zpatel/WatChMaL/outputs/2021-06-07/09-32-54/outputs'\n",
    "              ]\n",
    "\n",
    "short_titles = ['Short Tank (4-class)', 'Short Tank (2-class)', 'Fitqun']\n",
    "\n",
    "full_locs = []\n",
    "\n",
    "full_titles = []\n",
    "\n",
    "short_linecolor = [c[0] for _ in range(2)]\n",
    "short_linestyle = ['--' for _ in range(2)]\n",
    "\n",
    "full_linecolor = [c[1] for _ in full_locs]\n",
    "full_linestyle = [':' for _ in full_locs]\n"
   ]
  },
  {
   "cell_type": "code",
   "execution_count": 16,
   "id": "martial-chance",
   "metadata": {},
   "outputs": [],
   "source": [
    "############# load short tank run data #############\n",
    "short_raw_output_softmax    = [np.load(loc + \"/softmax.npy\") for loc in short_locs]\n",
    "short_raw_actual_labels     = [np.load(loc + \"/labels.npy\") for loc in short_locs]"
   ]
  },
  {
   "cell_type": "code",
   "execution_count": 17,
   "id": "seven-campbell",
   "metadata": {},
   "outputs": [],
   "source": [
    "locs      = short_locs + full_locs\n",
    "titles    = short_titles + full_titles\n",
    "linecolor = short_linecolor + full_linecolor\n",
    "linestyle = short_linestyle + full_linestyle"
   ]
  },
  {
   "cell_type": "markdown",
   "id": "objective-wrestling",
   "metadata": {},
   "source": [
    "<h1>Load h5 Data</h1>"
   ]
  },
  {
   "cell_type": "code",
   "execution_count": 18,
   "id": "graphic-authorization",
   "metadata": {},
   "outputs": [
    {
     "name": "stdout",
     "output_type": "stream",
     "text": [
      "<KeysViewHDF5 ['angles', 'energies', 'event_hits_index', 'event_ids', 'hit_charge', 'hit_pmt', 'hit_time', 'labels', 'positions', 'root_files', 'veto', 'veto2']>\n"
     ]
    }
   ],
   "source": [
    "# Import test events from h5 file\n",
    "data_path = \"/fast_scratch/WatChMaL/data/IWCD_mPMT_Short_emgp0_E0to1000MeV_digihits.h5\"\n",
    "data_file = h5py.File(data_path, \"r\")\n",
    "\n",
    "print(data_file.keys())\n",
    "\n",
    "energies   = np.array(data_file['energies'])\n",
    "angles     = np.array(data_file['angles'])\n",
    "positions  = np.array(data_file['positions'])\n",
    "labels     = np.array(data_file['labels'])"
   ]
  },
  {
   "cell_type": "code",
   "execution_count": 19,
   "id": "engaged-bicycle",
   "metadata": {},
   "outputs": [],
   "source": [
    "idxs_path = '/fast_scratch/WatChMaL/data/IWCD_mPMT_Short_4_class_3M_emgp0_idxs.npz'\n",
    "idxs = np.load(idxs_path, allow_pickle=True)\n",
    "\n",
    "test_idxs  = idxs['test_idxs']\n",
    "\n",
    "test_angles    = angles[test_idxs]\n",
    "test_energies  = energies[test_idxs]\n",
    "test_positions = positions[test_idxs]\n",
    "test_labels    = labels[test_idxs]"
   ]
  },
  {
   "cell_type": "code",
   "execution_count": 20,
   "id": "worldwide-ontario",
   "metadata": {},
   "outputs": [],
   "source": [
    "d_to_wall = np.load('/home/zpatel/WatChMaL_analysis_copy/fitqun_comparison/fq_comparison_data/3M_d_to_wall.npz', allow_pickle=True)\n",
    "\n",
    "test_d_to_wall  = d_to_wall['test_d_to_wall']"
   ]
  },
  {
   "cell_type": "code",
   "execution_count": 21,
   "id": "green-pavilion",
   "metadata": {},
   "outputs": [],
   "source": [
    "true_mom = np.load('/home/zpatel/WatChMaL_analysis_copy/fitqun_comparison/fq_comparison_data/3M_momenta.npz', allow_pickle=True)\n",
    "\n",
    "test_true_mom  = true_mom['test_momenta']"
   ]
  },
  {
   "cell_type": "markdown",
   "id": "statistical-klein",
   "metadata": {},
   "source": [
    "<h1>Verify Indices</h1>"
   ]
  },
  {
   "cell_type": "code",
   "execution_count": 22,
   "id": "entire-brazilian",
   "metadata": {},
   "outputs": [],
   "source": [
    "e_gamma_4_class_idxs = np.where((test_labels == 0) | (test_labels == 1))[0]"
   ]
  },
  {
   "cell_type": "code",
   "execution_count": 34,
   "id": "interim-break",
   "metadata": {},
   "outputs": [
    {
     "name": "stdout",
     "output_type": "stream",
     "text": [
      "[1182377 1177966 1164139 1147267]\n",
      "[1182377 1177966 1164139 1147267]\n",
      "[1182377 1177966]\n",
      "[1182377 1177966]\n"
     ]
    }
   ],
   "source": [
    "print(np.bincount(short_raw_actual_labels[0]))\n",
    "# print(np.bincount(short_raw_actual_labels[1]))\n",
    "print(np.bincount(test_labels))\n",
    "print(np.bincount(test_labels[e_gamma_4_class_idxs]))"
   ]
  },
  {
   "cell_type": "markdown",
   "id": "radio-manner",
   "metadata": {},
   "source": [
    "<h1>Generate Muon Rejection Based Preselection</h1>"
   ]
  },
  {
   "cell_type": "markdown",
   "id": "historic-range",
   "metadata": {},
   "source": [
    "<h2>Load 4-class with muons</h2>"
   ]
  },
  {
   "cell_type": "code",
   "execution_count": 35,
   "id": "single-shield",
   "metadata": {},
   "outputs": [],
   "source": [
    "muon_softmax_index_dict = {\"e/gamma\":0, \"mu\":1}"
   ]
  },
  {
   "cell_type": "code",
   "execution_count": 36,
   "id": "nonprofit-raising",
   "metadata": {},
   "outputs": [],
   "source": [
    "muon_cut_to_apply = cuts['fq_comparison']\n",
    "\n",
    "muon_raw_short_softmax = short_raw_output_softmax[0]\n",
    "\n",
    "muon_filtered_short_softmax  = remove_indices(short_raw_output_softmax[0], muon_cut_to_apply)\n",
    "muon_filtered_labels         = remove_indices(short_raw_actual_labels[0], muon_cut_to_apply)\n",
    "\n",
    "muon_collapsed_class_scores, muon_collapsed_class_labels = collapse_test_output(muon_filtered_short_softmax, muon_filtered_labels, label_dict, ignore_type='$\\gamma$')\n",
    "\n",
    "muon_collapsed_class_scores = muon_collapsed_class_scores[:,1:]\n",
    "muon_collapsed_class_labels = muon_collapsed_class_labels - 1 "
   ]
  },
  {
   "cell_type": "markdown",
   "id": "convertible-opposition",
   "metadata": {},
   "source": [
    "<h2>Cuts</h2>"
   ]
  },
  {
   "cell_type": "markdown",
   "id": "thousand-domain",
   "metadata": {},
   "source": [
    "<p>As the electron neutrino \n",
    "ux is a small component of the total neutrino \n",
    "ux, electron neutrino interaction events make up only 1.5% of all interaction events in the detector. In order to make precise measurements of electron neutrino cross-sections it is necessary to select a sample of events enriched in electron neutrino interactions. These events must be selected based upon the properties of the event as reconstructed by the detector.</p>"
   ]
  },
  {
   "cell_type": "markdown",
   "id": "liquid-witness",
   "metadata": {},
   "source": [
    "<h2> Compute Threshold </h2>"
   ]
  },
  {
   "cell_type": "markdown",
   "id": "descending-arthur",
   "metadata": {},
   "source": [
    "Choose a threshold as close to fpr_fixed_point = 0.005 as possible. To do this, compute index of min(fprs - 0.005) to find the false positive rate closest to the fixed point of 0.005. The index of this FPR will provide the threshold."
   ]
  },
  {
   "cell_type": "code",
   "execution_count": 40,
   "id": "painted-aspect",
   "metadata": {},
   "outputs": [
    {
     "name": "stdout",
     "output_type": "stream",
     "text": [
      "0.9737778274155542\n",
      "0.004998784573403542\n"
     ]
    }
   ],
   "source": [
    "fpr_fixed_point = 0.005\n",
    "fprs, tprs, thrs = compute_roc(muon_collapsed_class_scores, muon_collapsed_class_labels, \n",
    "                            true_label=muon_softmax_index_dict[\"e/gamma\"], \n",
    "                            false_label=muon_softmax_index_dict[\"mu\"],\n",
    "                            normalize=True)\n",
    "\n",
    "operating_point_thr = thrs[np.argmin(np.abs(fprs - fpr_fixed_point))]\n",
    "\n",
    "operating_point_cut = ((muon_raw_short_softmax[:, 0] + muon_raw_short_softmax[:, 1])/(muon_raw_short_softmax[:, 0] + muon_raw_short_softmax[:, 1] + muon_raw_short_softmax[:, 2])) < operating_point_thr\n",
    "\n",
    "print(tprs[np.argmin(np.abs(fprs - fpr_fixed_point))])\n",
    "print(fprs[np.argmin(np.abs(fprs - fpr_fixed_point))])"
   ]
  },
  {
   "cell_type": "code",
   "execution_count": null,
   "id": "popular-technology",
   "metadata": {},
   "outputs": [],
   "source": [
    "plot_roc()"
   ]
  },
  {
   "cell_type": "code",
   "execution_count": 46,
   "id": "creative-presentation",
   "metadata": {},
   "outputs": [
    {
     "data": {
      "text/plain": [
       "0.9070898680085112"
      ]
     },
     "execution_count": 46,
     "metadata": {},
     "output_type": "execute_result"
    }
   ],
   "source": [
    "operating_point_thr"
   ]
  },
  {
   "cell_type": "code",
   "execution_count": 44,
   "id": "formed-recruitment",
   "metadata": {},
   "outputs": [
    {
     "data": {
      "text/plain": [
       "4567"
      ]
     },
     "execution_count": 44,
     "metadata": {},
     "output_type": "execute_result"
    }
   ],
   "source": [
    "np.argmin(np.abs(fprs - fpr_fixed_point))"
   ]
  },
  {
   "cell_type": "code",
   "execution_count": 45,
   "id": "alpha-puzzle",
   "metadata": {},
   "outputs": [
    {
     "name": "stdout",
     "output_type": "stream",
     "text": [
      "0.9737778274155541\n",
      "0.004998784573403541\n"
     ]
    }
   ],
   "source": [
    "# Verify cut working\n",
    "comp_idxs = np.where((muon_filtered_labels == 1 ) | (muon_filtered_labels == 2))[0]\n",
    "\n",
    "scores = ((muon_filtered_short_softmax[:, 0] + muon_filtered_short_softmax[:, 1])/(muon_filtered_short_softmax[:, 0] + muon_filtered_short_softmax[:, 1] + muon_filtered_short_softmax[:, 2]))\n",
    "\n",
    "pred_pos_idxs = np.where( scores[comp_idxs] >= operating_point_thr)[0]\n",
    "pred_neg_idxs = np.where( scores[comp_idxs] < operating_point_thr)[0]\n",
    "\n",
    "true_label, false_label = '$e$','$\\mu$'\n",
    "fp = np.where(muon_filtered_labels[comp_idxs[pred_pos_idxs]] == label_dict[false_label])[0].shape[0]\n",
    "tp = np.where(muon_filtered_labels[comp_idxs[pred_pos_idxs]] == label_dict[true_label] )[0].shape[0]\n",
    "fn = np.where(muon_filtered_labels[comp_idxs[pred_neg_idxs]] == label_dict[true_label] )[0].shape[0]\n",
    "tn = np.where(muon_filtered_labels[comp_idxs[pred_neg_idxs]] == label_dict[false_label])[0].shape[0]\n",
    "\n",
    "# TODO: division by zero problem\n",
    "efficiency = performance = tp/(tp + fn + 1e-10)\n",
    "fpr = performance = fp/(fp + tn + 1e-10)\n",
    "\n",
    "print(efficiency)\n",
    "print(fpr)"
   ]
  },
  {
   "cell_type": "code",
   "execution_count": null,
   "id": "indirect-horror",
   "metadata": {},
   "outputs": [],
   "source": []
  }
 ],
 "metadata": {
  "kernelspec": {
   "display_name": "Python 3",
   "language": "python",
   "name": "python3"
  },
  "language_info": {
   "codemirror_mode": {
    "name": "ipython",
    "version": 3
   },
   "file_extension": ".py",
   "mimetype": "text/x-python",
   "name": "python",
   "nbconvert_exporter": "python",
   "pygments_lexer": "ipython3",
   "version": "3.8.5"
  }
 },
 "nbformat": 4,
 "nbformat_minor": 5
}
