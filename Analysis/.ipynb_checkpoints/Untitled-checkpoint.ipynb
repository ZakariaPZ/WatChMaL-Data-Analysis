{
 "cells": [
  {
   "cell_type": "code",
   "execution_count": 30,
   "id": "rolled-gospel",
   "metadata": {},
   "outputs": [
    {
     "name": "stdout",
     "output_type": "stream",
     "text": [
      "The autoreload extension is already loaded. To reload it, use:\n",
      "  %reload_ext autoreload\n"
     ]
    }
   ],
   "source": [
    "%load_ext autoreload\n",
    "%matplotlib inline\n",
    "%autoreload 2"
   ]
  },
  {
   "cell_type": "code",
   "execution_count": 31,
   "id": "turkish-obligation",
   "metadata": {},
   "outputs": [],
   "source": [
    "import uproot\n",
    "import numpy as np\n",
    "import matplotlib.pyplot as plt\n",
    "import os\n",
    "import sys\n",
    "import pickle\n",
    "import h5py"
   ]
  },
  {
   "cell_type": "code",
   "execution_count": 32,
   "id": "cultural-seminar",
   "metadata": {},
   "outputs": [],
   "source": [
    "sys.path.append(\"../../WatChMaL_analysis_copy\")\n",
    "\n",
    "from WatChMaL.analysis.multi_plot_utils import multi_disp_learn_hist, multi_compute_roc, multi_plot_roc\n",
    "from WatChMaL.analysis.comparison_utils import multi_get_masked_data, multi_collapse_test_output, collapse_test_output\n",
    "from WatChMaL.analysis.fitqun_comparison_utils import load_mu_fq_output, load_pion_fq_output, load_gamma_fq_output\n",
    "from WatChMaL.analysis.performance_analysis_utils import remove_indices\n",
    "from WatChMaL.analysis.performance_analysis_plot_utils import plot_fitqun_binned_performance, plot_momentum_binned_performance\n",
    "from WatChMaL.analysis.performance_analysis_plot_utils import plot_true_momentum_binned_performance, plot_to_wall_binned_performance, plot_energy_binned_performance, plot_zenith_binned_performance, plot_azimuth_binned_performance\n",
    "from WatChMaL.analysis.performance_analysis_plot_utils import plot_to_wall_binned_in_energy, plot_zenith_binned_in_azimuth, plot_azimuth_binned_in_zenith"
   ]
  },
  {
   "cell_type": "code",
   "execution_count": 34,
   "id": "located-bandwidth",
   "metadata": {},
   "outputs": [],
   "source": [
    "############# define plotting params #############\n",
    "c = plt.rcParams['axes.prop_cycle'].by_key()['color']\n",
    "label_dict = {\"$\\gamma$\":0, \"$e$\":1, \"$\\mu$\":2, \"$\\pi 0$\":3}\n",
    "inverse_label_dict = {0:\"$\\gamma$\", 1:\"$e$\", 2:\"$\\mu$\", 3:\"$\\pi 0$\"}\n",
    "muon_softmax_index_dict = {\"e/gamma\":0, \"mu\":1}"
   ]
  },
  {
   "cell_type": "markdown",
   "id": "postal-patent",
   "metadata": {},
   "source": [
    "<h1>Load fiTQun Results</h1>"
   ]
  },
  {
   "cell_type": "code",
   "execution_count": 21,
   "id": "ranging-innocent",
   "metadata": {},
   "outputs": [],
   "source": [
    "# Retrieve flags\n",
    "gamma_file_path = '/fast_scratch/WatChMaL/data/IWCD_mPMT_Short_gamma_E0to1000MeV_unif-pos-R400-y300cm_4pi-dir.fiTQun.root'\n",
    "e_file_path     = '/fast_scratch/WatChMaL/data/IWCD_mPMT_Short_e-_E0to1000MeV_unif-pos-R400-y300cm_4pi-dir.fiTQun.root'\n",
    "mu_file_path    = '/fast_scratch/WatChMaL/data/IWCD_mPMT_Short_mu-_E0to1000MeV_unif-pos-R400-y300cm_4pi-dir.fiTQun.root'\n",
    "pion_file_path  = '/fast_scratch/WatChMaL/data/IWCD_mPMT_Short_pi0_E0to1000MeV_unif-pos-R400-y300cm_4pi-dir.fiTQun.root'\n",
    "\n",
    "fq_mapping_path = '/home/zpatel/WatChMaL_analysis_copy/fitqun_comparison/fitqun_comparison_prep/prep_data/4_class_3M_fitqun_mapping.pickle'\n",
    "\n",
    "with open('./prep_data/4_class_3M_fitqun_cuts.pickle', 'rb') as handle:\n",
    "    cuts = pickle.load(handle)"
   ]
  },
  {
   "cell_type": "markdown",
   "id": "drawn-research",
   "metadata": {},
   "source": [
    "<h1>Load ResNet Results</h1>"
   ]
  },
  {
   "cell_type": "code",
   "execution_count": 36,
   "id": "unexpected-belief",
   "metadata": {},
   "outputs": [],
   "source": [
    "############# define run locations #############\n",
    "short_locs = [#'/home/jtindall/WatChMaL/outputs/2021-04-06/13-38-38/outputs'\n",
    "              '/home/zpatel/WatChMaL/outputs/2021-05-31/09-44-17/outputs' # 4 class\n",
    "#               '/home/zpatel/WatChMaL/outputs/2021-04-19/09-44-40/outputs'   # 2 class\n",
    "              ]\n",
    "\n",
    "short_titles = ['Short Tank (4-class)', 'Short Tank (2-class)', 'Fitqun']\n",
    "\n",
    "full_locs = []\n",
    "\n",
    "full_titles = []\n",
    "\n",
    "short_linecolor = [c[0] for _ in range(2)]\n",
    "short_linestyle = ['--' for _ in range(2)]\n",
    "\n",
    "full_linecolor = [c[1] for _ in full_locs]\n",
    "full_linestyle = [':' for _ in full_locs]\n"
   ]
  },
  {
   "cell_type": "code",
   "execution_count": 37,
   "id": "martial-chance",
   "metadata": {},
   "outputs": [],
   "source": [
    "############# load short tank run data #############\n",
    "short_raw_output_softmax    = [np.load(loc + \"/softmax.npy\") for loc in short_locs]\n",
    "short_raw_actual_labels     = [np.load(loc + \"/labels.npy\") for loc in short_locs]"
   ]
  },
  {
   "cell_type": "code",
   "execution_count": 38,
   "id": "seven-campbell",
   "metadata": {},
   "outputs": [],
   "source": [
    "locs      = short_locs + full_locs\n",
    "titles    = short_titles + full_titles\n",
    "linecolor = short_linecolor + full_linecolor\n",
    "linestyle = short_linestyle + full_linestyle"
   ]
  },
  {
   "cell_type": "markdown",
   "id": "objective-wrestling",
   "metadata": {},
   "source": [
    "<h1>Load h5 Data</h1>"
   ]
  },
  {
   "cell_type": "code",
   "execution_count": 54,
   "id": "graphic-authorization",
   "metadata": {},
   "outputs": [
    {
     "name": "stdout",
     "output_type": "stream",
     "text": [
      "<KeysViewHDF5 ['angles', 'energies', 'event_hits_index', 'event_ids', 'hit_charge', 'hit_pmt', 'hit_time', 'labels', 'positions', 'root_files', 'veto', 'veto2']>\n"
     ]
    }
   ],
   "source": [
    "# Import test events from h5 file\n",
    "data_path = \"/fast_scratch/WatChMaL/data/IWCD_mPMT_Short_emgp0_E0to1000MeV_digihits.h5\"\n",
    "data_file = h5py.File(data_path, \"r\")\n",
    "\n",
    "print(data_file.keys())\n",
    "\n",
    "energies   = np.array(data_file['energies'])\n",
    "angles     = np.array(data_file['angles'])\n",
    "positions  = np.array(data_file['positions'])\n",
    "labels     = np.array(data_file['labels'])"
   ]
  },
  {
   "cell_type": "code",
   "execution_count": 57,
   "id": "engaged-bicycle",
   "metadata": {},
   "outputs": [],
   "source": [
    "idxs_path = '/fast_scratch/WatChMaL/data/IWCD_mPMT_Short_4_class_3M_emgp0_idxs.npz'\n",
    "idxs = np.load(idxs_path, allow_pickle=True)\n",
    "\n",
    "test_idxs  = idxs['test_idxs']\n",
    "\n",
    "test_angles    = angles[test_idxs]\n",
    "test_energies  = energies[test_idxs]\n",
    "test_positions = positions[test_idxs]\n",
    "test_labels    = labels[test_idxs]"
   ]
  },
  {
   "cell_type": "code",
   "execution_count": 60,
   "id": "worldwide-ontario",
   "metadata": {},
   "outputs": [],
   "source": [
    "d_to_wall = np.load('/home/zpatel/WatChMaL_analysis_copy/fitqun_comparison/fq_comparison_data/3M_d_to_wall.npz', allow_pickle=True)\n",
    "\n",
    "test_d_to_wall  = d_to_wall['test_d_to_wall']"
   ]
  },
  {
   "cell_type": "code",
   "execution_count": 59,
   "id": "green-pavilion",
   "metadata": {},
   "outputs": [],
   "source": [
    "true_mom = np.load('/home/zpatel/WatChMaL_analysis_copy/fitqun_comparison/fq_comparison_data/3M_momenta.npz', allow_pickle=True)\n",
    "\n",
    "test_true_mom  = true_mom['test_momenta']"
   ]
  },
  {
   "cell_type": "markdown",
   "id": "statistical-klein",
   "metadata": {},
   "source": [
    "<h1>Verify Indices</h1>"
   ]
  },
  {
   "cell_type": "code",
   "execution_count": 61,
   "id": "entire-brazilian",
   "metadata": {},
   "outputs": [],
   "source": [
    "e_gamma_4_class_idxs = np.where((test_labels == 0) | (test_labels == 1))[0]"
   ]
  },
  {
   "cell_type": "code",
   "execution_count": 67,
   "id": "interim-break",
   "metadata": {},
   "outputs": [
    {
     "name": "stdout",
     "output_type": "stream",
     "text": [
      "[1056379 1048835  650223  966798]\n",
      "[1182377 1177966 1164139 1147267]\n",
      "[1182377 1177966]\n"
     ]
    }
   ],
   "source": [
    "print(np.bincount(short_raw_actual_labels[0]))\n",
    "# print(np.bincount(short_raw_actual_labels[1]))\n",
    "print(np.bincount(test_labels))\n",
    "print(np.bincount(test_labels[e_gamma_4_class_idxs]))"
   ]
  },
  {
   "cell_type": "code",
   "execution_count": 69,
   "id": "floral-iraqi",
   "metadata": {},
   "outputs": [
    {
     "data": {
      "text/plain": [
       "4671749"
      ]
     },
     "execution_count": 69,
     "metadata": {},
     "output_type": "execute_result"
    }
   ],
   "source": [
    "sum(np.bincount(test_labels))"
   ]
  },
  {
   "cell_type": "code",
   "execution_count": 70,
   "id": "coastal-image",
   "metadata": {},
   "outputs": [
    {
     "data": {
      "text/plain": [
       "3722235"
      ]
     },
     "execution_count": 70,
     "metadata": {},
     "output_type": "execute_result"
    }
   ],
   "source": [
    "sum(np.bincount(short_raw_actual_labels[0]))"
   ]
  },
  {
   "cell_type": "code",
   "execution_count": null,
   "id": "demographic-performance",
   "metadata": {},
   "outputs": [],
   "source": []
  }
 ],
 "metadata": {
  "kernelspec": {
   "display_name": "Python 3",
   "language": "python",
   "name": "python3"
  },
  "language_info": {
   "codemirror_mode": {
    "name": "ipython",
    "version": 3
   },
   "file_extension": ".py",
   "mimetype": "text/x-python",
   "name": "python",
   "nbconvert_exporter": "python",
   "pygments_lexer": "ipython3",
   "version": "3.8.5"
  }
 },
 "nbformat": 4,
 "nbformat_minor": 5
}
